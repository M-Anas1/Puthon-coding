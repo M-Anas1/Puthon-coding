{
 "cells": [
  {
   "cell_type": "markdown",
   "metadata": {},
   "source": [
    "Append method ()\n",
    "\n",
    "We can say that we use append method to add only one  index or value at the end of the list .\n",
    "\n",
    "The return type of append() is \"NONE\"\n",
    "Eg : "
   ]
  },
  {
   "cell_type": "code",
   "execution_count": 73,
   "metadata": {},
   "outputs": [
    {
     "name": "stdout",
     "output_type": "stream",
     "text": [
      "['street no 1', 'street no 2', 'street no 3', 'street no 4']\n",
      "\n",
      " After append method \n",
      "['street no 1', 'street no 2', 'street no 3', 'street no 4', 'street no 5']\n"
     ]
    }
   ],
   "source": [
    "streets : list =  [\"street no 1\",\"street no 2\",\"street no 3\",\"street no 4\"]\n",
    "print(streets)\n",
    "# in order to add street 5 at the end we use append () method like :\n",
    "print(\"\\n After append method \")\n",
    "streets.append(\"street no 5\")\n",
    "print(streets)"
   ]
  },
  {
   "cell_type": "markdown",
   "metadata": {},
   "source": [
    "Extend method ()\n",
    "\n",
    "We can say this we use it to add more than one indexes or vlaues .\n",
    "this method also add indeses or vlue at the end of list .\n",
    "The return type of extend() is \"NONE\"\n",
    "\n",
    "Eg :"
   ]
  },
  {
   "cell_type": "code",
   "execution_count": 74,
   "metadata": {},
   "outputs": [
    {
     "name": "stdout",
     "output_type": "stream",
     "text": [
      "[12, 34, 22, 54, 98, 45]\n",
      "\n",
      " After extend method \n",
      "[12, 34, 22, 54, 98, 45, 90, 100, 300]\n"
     ]
    }
   ],
   "source": [
    "numbers : list =  [12,34,22,54,98,45]\n",
    "print(numbers)\n",
    "print(\"\\n After extend method \")\n",
    "numbers.extend([90,100,300])\n",
    "print(numbers)\n"
   ]
  },
  {
   "cell_type": "markdown",
   "metadata": {},
   "source": [
    "Insert method ()\n",
    "This function add a value at any index of list .\n",
    "Its returen type is None .\n",
    "Eg :"
   ]
  },
  {
   "cell_type": "code",
   "execution_count": 75,
   "metadata": {},
   "outputs": [
    {
     "name": "stdout",
     "output_type": "stream",
     "text": [
      "[12, 34, 22, 54, 98, 45]\n",
      "\n",
      " After isert method \n",
      "[12, 100, 34, 22, 54, 98, 45]\n",
      "[12, 100, 34, 22, 600, 54, 98, 45]\n"
     ]
    }
   ],
   "source": [
    "numbers : list =  [12,34,22,54,98,45]\n",
    "print(numbers)\n",
    "print(\"\\n After isert method \")\n",
    "numbers.insert(1,100)\n",
    "print(numbers)\n",
    "numbers.insert(4,600)\n",
    "print(numbers)"
   ]
  },
  {
   "cell_type": "markdown",
   "metadata": {},
   "source": [
    "Remove method ()\n",
    "This method remove value from list according to given instruction to it .\n",
    "Its returen type is None\n",
    "Eg :"
   ]
  },
  {
   "cell_type": "code",
   "execution_count": 76,
   "metadata": {},
   "outputs": [
    {
     "name": "stdout",
     "output_type": "stream",
     "text": [
      "[10, 30, 20, 50, 40, 60]\n",
      "\n",
      " After remove method \n",
      "[30, 20, 50, 40, 60]\n"
     ]
    }
   ],
   "source": [
    "numbers : list =  [10,30,20,50,40,60]\n",
    "print(numbers)\n",
    "# if I want to remove 10 I give it toinparamiter for removal .\n",
    "print(\"\\n After remove method \")\n",
    "numbers.remove(10)\n",
    "print(numbers)\n",
    "\n"
   ]
  },
  {
   "cell_type": "markdown",
   "metadata": {},
   "source": [
    "Pop method ()\n",
    "pop methed is use to remove an item form the list .it remove the last index or item from list\n",
    "\n",
    "Its returen type is Any\n",
    "Eg :"
   ]
  },
  {
   "cell_type": "code",
   "execution_count": 77,
   "metadata": {},
   "outputs": [
    {
     "name": "stdout",
     "output_type": "stream",
     "text": [
      "[10, 30, 20, 50, 40, 60]\n",
      "\n",
      " After pop method \n",
      "[10, 30, 20, 50, 40]\n"
     ]
    }
   ],
   "source": [
    "numbers : list =  [10,30,20,50,40,60]\n",
    "print(numbers)\n",
    "print(\"\\n After pop method \")\n",
    "numbers.pop()\n",
    "print(numbers)\n"
   ]
  },
  {
   "cell_type": "markdown",
   "metadata": {},
   "source": [
    "Clear method ()\n",
    "This method make the list to Empty. \n",
    "Its returen type is None\n",
    "Eg:"
   ]
  },
  {
   "cell_type": "code",
   "execution_count": 78,
   "metadata": {},
   "outputs": [
    {
     "name": "stdout",
     "output_type": "stream",
     "text": [
      "[10, 30, 20, 50, 40, 60]\n",
      "[]\n"
     ]
    }
   ],
   "source": [
    "numbers : list =  [10,30,20,50,40,60]\n",
    "print(numbers)\n",
    "numbers.clear()\n",
    "print(numbers)\n"
   ]
  },
  {
   "cell_type": "markdown",
   "metadata": {},
   "source": [
    "Index method ()\n",
    "\n",
    "This method is use to get the index of given paramiter vlaue \n",
    "we can find the the index of value \n",
    "It return the index of paramiter \n",
    "Its returen type is any\n",
    "\n",
    "\n",
    "Eg:"
   ]
  },
  {
   "cell_type": "code",
   "execution_count": 79,
   "metadata": {},
   "outputs": [
    {
     "name": "stdout",
     "output_type": "stream",
     "text": [
      "[10, 30, 20, 50, 40, 60]\n",
      "\n",
      " After index  method \n",
      "2\n",
      "[10, 30, 20, 50, 40, 60]\n"
     ]
    }
   ],
   "source": [
    "numbers : list =  [10,30,20,50,40,60]\n",
    "print(numbers)\n",
    "print(\"\\n After index  method \")\n",
    "print(numbers.index(20))\n",
    "print(numbers)\n"
   ]
  },
  {
   "cell_type": "markdown",
   "metadata": {},
   "source": [
    "Count method ()\n",
    "By using this we count the the repeattation of any index in list \n",
    "Its returen type is Int\n",
    "Eg :\n"
   ]
  },
  {
   "cell_type": "code",
   "execution_count": 80,
   "metadata": {},
   "outputs": [
    {
     "name": "stdout",
     "output_type": "stream",
     "text": [
      "[10, 30, 20, 30, 50, 30, 40, 60, 30]\n",
      "4\n"
     ]
    }
   ],
   "source": [
    "numbers : list =  [10,30,20,30,50,30,40,60,30]\n",
    "print(numbers)\n",
    "print(numbers.count(30))"
   ]
  },
  {
   "cell_type": "markdown",
   "metadata": {},
   "source": [
    "Sort() :\n",
    "This method sort the list item .it arrange the item in list alphabtically or numarically depends on list type .\n",
    "Its returen type is None .\n",
    "Eg :"
   ]
  },
  {
   "cell_type": "code",
   "execution_count": 81,
   "metadata": {},
   "outputs": [
    {
     "name": "stdout",
     "output_type": "stream",
     "text": [
      "[10, 30, 20, 50, 40, 60]\n",
      "[10, 20, 30, 40, 50, 60]\n"
     ]
    }
   ],
   "source": [
    "numbers : list =  [10,30,20,50,40,60]\n",
    "print(numbers)\n",
    "numbers.sort()\n",
    "print(numbers)"
   ]
  },
  {
   "cell_type": "markdown",
   "metadata": {},
   "source": [
    "Reverse() : \n",
    "As from name this funtion print list oppistly like reverse the list .\n",
    "Its returen type is None .\n",
    "Eg :"
   ]
  },
  {
   "cell_type": "code",
   "execution_count": 82,
   "metadata": {},
   "outputs": [
    {
     "name": "stdout",
     "output_type": "stream",
     "text": [
      "[10, 30, 20, 50, 40, 60]\n",
      "[10, 20, 30, 40, 50, 60]\n",
      "[60, 50, 40, 30, 20, 10]\n"
     ]
    }
   ],
   "source": [
    "numbers : list =  [10,30,20,50,40,60]\n",
    "print(numbers)\n",
    "numbers.sort()\n",
    "print(numbers)\n",
    "numbers.reverse()\n",
    "print(numbers)"
   ]
  },
  {
   "cell_type": "markdown",
   "metadata": {},
   "source": [
    "copy() :\n",
    "As from name this funtion print zerox copy of list .we can copy list by this function .\n",
    "Its returen type is list .\n",
    "Eg : "
   ]
  },
  {
   "cell_type": "code",
   "execution_count": 83,
   "metadata": {},
   "outputs": [
    {
     "name": "stdout",
     "output_type": "stream",
     "text": [
      "[10, 30, 20, 50, 40, 60]\n",
      "[10, 30, 20, 50, 40, 60]\n"
     ]
    }
   ],
   "source": [
    "numbers : list =  [10,30,20,50,40,60]\n",
    "print(numbers)\n",
    "num = numbers.copy()\n",
    "print (num)"
   ]
  }
 ],
 "metadata": {
  "kernelspec": {
   "display_name": "base",
   "language": "python",
   "name": "python3"
  },
  "language_info": {
   "codemirror_mode": {
    "name": "ipython",
    "version": 3
   },
   "file_extension": ".py",
   "mimetype": "text/x-python",
   "name": "python",
   "nbconvert_exporter": "python",
   "pygments_lexer": "ipython3",
   "version": "3.12.4"
  }
 },
 "nbformat": 4,
 "nbformat_minor": 2
}

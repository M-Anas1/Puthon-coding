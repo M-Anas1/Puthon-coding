{
 "cells": [
  {
   "cell_type": "markdown",
   "metadata": {},
   "source": [
    "Question 1"
   ]
  },
  {
   "cell_type": "code",
   "execution_count": 55,
   "metadata": {},
   "outputs": [
    {
     "name": "stdout",
     "output_type": "stream",
     "text": [
      "Anas\n",
      "Ali\n",
      "Hassan\n"
     ]
    }
   ],
   "source": [
    "friends : list =[ \"Anas\" , \"Ali\" , \"Hassan\" ]\n",
    "for friend in friends : \n",
    " print(friend)"
   ]
  },
  {
   "cell_type": "markdown",
   "metadata": {},
   "source": [
    "Question 2"
   ]
  },
  {
   "cell_type": "code",
   "execution_count": 56,
   "metadata": {},
   "outputs": [
    {
     "name": "stdout",
     "output_type": "stream",
     "text": [
      "Basit bro you are a nice man .\n",
      "Ali bro you are a nice man .\n",
      "Hassan bro you are a nice man .\n"
     ]
    }
   ],
   "source": [
    "friends : list =[ \"Basit\" , \"Ali\" , \"Hassan\" ]\n",
    "for friend in friends : \n",
    " print(f\"{friend} bro you are a nice man .\")"
   ]
  },
  {
   "cell_type": "markdown",
   "metadata": {},
   "source": [
    "Question 3"
   ]
  },
  {
   "cell_type": "code",
   "execution_count": 57,
   "metadata": {},
   "outputs": [
    {
     "name": "stdout",
     "output_type": "stream",
     "text": [
      "I want to buy Ninja H2R\n",
      "I want to buy Civic\n",
      "I want to buy BMW car\n",
      "I want to buy Land Rover\n"
     ]
    }
   ],
   "source": [
    "trans_Modes : list =[ \"Ninja H2R\" , \"Civic\" , \"BMW car\" , \"Land Rover\" ]\n",
    "for mode in trans_Modes: \n",
    " print(f\"I want to buy {mode}\")"
   ]
  },
  {
   "cell_type": "markdown",
   "metadata": {},
   "source": [
    "Question 4"
   ]
  },
  {
   "cell_type": "code",
   "execution_count": 58,
   "metadata": {},
   "outputs": [
    {
     "name": "stdout",
     "output_type": "stream",
     "text": [
      "Raza I invite you to the dinner .\n",
      "Hassan I invite you to the dinner .\n",
      "Atif I invite you to the dinner .\n",
      "Azan I invite you to the dinner .\n",
      "Asad I invite you to the dinner .\n"
     ]
    }
   ],
   "source": [
    "fav_guest : list =[ \"Raza\" , \"Hassan\" , \"Atif\" , \"Azan\" , \"Asad\" ]\n",
    "for guest in fav_guest :\n",
    "    print(f\"{guest} I invite you to the dinner .\")"
   ]
  },
  {
   "cell_type": "markdown",
   "metadata": {},
   "source": [
    "Question 5"
   ]
  },
  {
   "cell_type": "code",
   "execution_count": 59,
   "metadata": {},
   "outputs": [
    {
     "name": "stdout",
     "output_type": "stream",
     "text": [
      "Raza I invite you to the dinner .\n",
      "Hassan I invite you to the dinner .\n",
      "Atif I invite you to the dinner .\n",
      "Azan I invite you to the dinner .\n",
      "Asad I invite you to the dinner .\n",
      "\n",
      "Atif can't come to the dinner\n",
      "\n",
      " New guest list .\n",
      "Raza I invite you to the dinner .\n",
      "Hassan I invite you to the dinner .\n",
      "Muahammad I invite you to the dinner .\n",
      "Azan I invite you to the dinner .\n",
      "Asad I invite you to the dinner .\n"
     ]
    }
   ],
   "source": [
    "fav_guest : list =[ \"Raza\" , \"Hassan\" , \"Atif\" , \"Azan\" , \"Asad\" ]\n",
    "for guest in fav_guest :\n",
    "     print(f\"{guest} I invite you to the dinner .\")\n",
    "\n",
    "print (f\"\\n{fav_guest[2]} can't come to the dinner\")\n",
    "\n",
    "new_guest :str = \"Muahammad\"\n",
    "fav_guest[2] = new_guest \n",
    "\n",
    "print (\"\\n New guest list .\")\n",
    "for guest in fav_guest :\n",
    "    print(f\"{guest} I invite you to the dinner .\")"
   ]
  },
  {
   "cell_type": "markdown",
   "metadata": {},
   "source": [
    "Question 6"
   ]
  },
  {
   "cell_type": "code",
   "execution_count": 60,
   "metadata": {},
   "outputs": [
    {
     "name": "stdout",
     "output_type": "stream",
     "text": [
      "Raza I invite you to the dinner .\n",
      "Hassan I invite you to the dinner .\n",
      "Atif I invite you to the dinner .\n",
      "Azan I invite you to the dinner .\n",
      "Asad I invite you to the dinner .\n",
      "\n",
      "Atif can't come to the dinner\n",
      "\n",
      " New guest list .\n",
      "Raza I invite you to the dinner .\n",
      "Hassan I invite you to the dinner .\n",
      "Muahammad I invite you to the dinner .\n",
      "Azan I invite you to the dinner .\n",
      "Asad I invite you to the dinner .\n",
      "\n",
      "Great news! We found a bigger table, so we can invite more guests.\n",
      "['Fayyaz', 'Raza', 'Hassan', 'King', 'Muahammad', 'Azan', 'Asad', 'Saad']\n",
      "Fayyaz I invite you to the dinner .\n",
      "Raza I invite you to the dinner .\n",
      "Hassan I invite you to the dinner .\n",
      "King I invite you to the dinner .\n",
      "Muahammad I invite you to the dinner .\n",
      "Azan I invite you to the dinner .\n",
      "Asad I invite you to the dinner .\n",
      "Saad I invite you to the dinner .\n"
     ]
    }
   ],
   "source": [
    "fav_guest : list =[ \"Raza\" , \"Hassan\" , \"Atif\" , \"Azan\" , \"Asad\" ]\n",
    "for guest in fav_guest :\n",
    "     print(f\"{guest} I invite you to the dinner .\")\n",
    "\n",
    "print (f\"\\n{fav_guest[2]} can't come to the dinner\")\n",
    "\n",
    "new_guest :str = \"Muahammad\"\n",
    "fav_guest[2] = new_guest \n",
    "\n",
    "print (\"\\n New guest list .\")\n",
    "for guest in fav_guest :\n",
    "    print(f\"{guest} I invite you to the dinner .\")\n",
    "print(\"\\nGreat news! We found a bigger table, so we can invite more guests.\")\n",
    "fav_guest.append(\"Saad\")\n",
    "fav_guest.insert(0,\"Fayyaz\")\n",
    "fav_guest.insert(3,\"King\") \n",
    "\n",
    "print(fav_guest)\n",
    "for new_guest in fav_guest :\n",
    "     print(f\"{new_guest} I invite you to the dinner .\")"
   ]
  },
  {
   "cell_type": "markdown",
   "metadata": {},
   "source": [
    "Question 7"
   ]
  },
  {
   "cell_type": "code",
   "execution_count": 61,
   "metadata": {},
   "outputs": [
    {
     "name": "stdout",
     "output_type": "stream",
     "text": [
      "Raza I invite you to the dinner .\n",
      "Hassan I invite you to the dinner .\n",
      "Atif I invite you to the dinner .\n",
      "Azan I invite you to the dinner .\n",
      "Asad I invite you to the dinner .\n",
      "\n",
      "Atif can't come to the dinner\n",
      "\n",
      " New guest list .\n",
      "Raza I invite you to the dinner .\n",
      "Hassan I invite you to the dinner .\n",
      "Muahammad I invite you to the dinner .\n",
      "Azan I invite you to the dinner .\n",
      "Asad I invite you to the dinner .\n",
      "\n",
      "Great news! We found a bigger table, so we can invite more guests.\n",
      "['Fayyaz', 'Raza', 'Hassan', 'King', 'Muahammad', 'Azan', 'Asad', 'Saad']\n",
      "Fayyaz I invite you to the dinner .\n",
      "Raza I invite you to the dinner .\n",
      "Hassan I invite you to the dinner .\n",
      "King I invite you to the dinner .\n",
      "Muahammad I invite you to the dinner .\n",
      "Azan I invite you to the dinner .\n",
      "Asad I invite you to the dinner .\n",
      "Saad I invite you to the dinner .\n",
      "\n",
      "I can invite only two people for dinner.\n",
      "['Fayyaz', 'Raza', 'Hassan', 'King', 'Muahammad', 'Azan', 'Asad', 'Saad']\n",
      "['Fayyaz', 'Muahammad']\n",
      "Fayyaz I invite you to the dinner .\n",
      "Muahammad I invite you to the dinner .\n"
     ]
    }
   ],
   "source": [
    "fav_guest : list =[ \"Raza\" , \"Hassan\" , \"Atif\" , \"Azan\" , \"Asad\" ]\n",
    "for guest in fav_guest :\n",
    "     print(f\"{guest} I invite you to the dinner .\")\n",
    "\n",
    "print (f\"\\n{fav_guest[2]} can't come to the dinner\")\n",
    "\n",
    "new_guest :str = \"Muahammad\"\n",
    "fav_guest[2] = new_guest \n",
    "\n",
    "print (\"\\n New guest list .\")\n",
    "for guest in fav_guest :\n",
    "    print(f\"{guest} I invite you to the dinner .\")\n",
    "print(\"\\nGreat news! We found a bigger table, so we can invite more guests.\")\n",
    "fav_guest.append(\"Saad\")\n",
    "fav_guest.insert(0,\"Fayyaz\")\n",
    "fav_guest.insert(3,\"King\") \n",
    "\n",
    "print(fav_guest)\n",
    "for new_guest in fav_guest :\n",
    "     print(f\"{new_guest} I invite you to the dinner .\")\n",
    "\n",
    "print(\"\\nI can invite only two people for dinner.\")\n",
    "print(fav_guest)\n",
    "\n",
    "del(fav_guest[1])\n",
    "del(fav_guest[1])\n",
    "del(fav_guest[1])\n",
    "fav_guest.pop()\n",
    "fav_guest.pop()\n",
    "fav_guest.pop()\n",
    "print(fav_guest)\n",
    "for remain_guest in fav_guest :\n",
    "     print(f\"{remain_guest} I invite you to the dinner .\")"
   ]
  },
  {
   "cell_type": "markdown",
   "metadata": {},
   "source": [
    "question 8"
   ]
  },
  {
   "cell_type": "code",
   "execution_count": 62,
   "metadata": {},
   "outputs": [
    {
     "name": "stdout",
     "output_type": "stream",
     "text": [
      "['Sydney', 'New York', 'London', 'Makkah MUkarma']\n",
      "['London', 'Makkah MUkarma', 'New York', 'Sydney']\n",
      "['Sydney', 'New York', 'Makkah MUkarma', 'London']\n"
     ]
    }
   ],
   "source": [
    "fav_places :list = [\"Sydney\",\"New York\",\"London\",\"Makkah MUkarma\"]\n",
    "print(fav_places)\n",
    "\n",
    "fav_places.sort()\n",
    "print(fav_places)\n",
    "\n",
    "fav_places.reverse()\n",
    "    \n",
    "print(fav_places)\n"
   ]
  },
  {
   "cell_type": "markdown",
   "metadata": {},
   "source": [
    "Question 9"
   ]
  },
  {
   "cell_type": "code",
   "execution_count": 63,
   "metadata": {},
   "outputs": [
    {
     "name": "stdout",
     "output_type": "stream",
     "text": [
      "Rolls Royes\n",
      "Tesla\n",
      "Porsche\n",
      "Land Rower\n",
      "\n",
      "List after appending an element:\n",
      "['Rolls Royes', 'Lamborgini', 'Tesla', 'Porsche', 'Land Rower', 'BMW']\n",
      "\n",
      "List after pop an element:\n",
      "['Rolls Royes', 'Lamborgini', 'Tesla', 'Porsche', 'Land Rower']\n",
      "\n",
      "List after delete an element:\n",
      "['Rolls Royes', 'Lamborgini', 'Tesla', 'Porsche']\n",
      "\n",
      "List after sort an element:\n",
      "['Lamborgini', 'Porsche', 'Rolls Royes', 'Tesla']\n",
      "\n",
      "List after reverse an element:\n",
      "['Tesla', 'Rolls Royes', 'Porsche', 'Lamborgini']\n"
     ]
    }
   ],
   "source": [
    "cars : list = [\"Rolls Royes\",\"Tesla\",\"Porsche\",\"Land Rower\"] \n",
    "for car in cars :\n",
    "    print(car)\n",
    "cars.insert(1,\"Lamborgini\")\n",
    "\n",
    "cars.append(\"BMW\")\n",
    "print(\"\\nList after appending an element:\")\n",
    "print(cars)\n",
    "\n",
    "cars.pop()\n",
    "print(\"\\nList after pop an element:\")\n",
    "print(cars)\n",
    "\n",
    "del(cars[4])\n",
    "print(\"\\nList after delete an element:\")\n",
    "print(cars)\n",
    "\n",
    "cars.sort()\n",
    "print(\"\\nList after sort an element:\")\n",
    "print(cars)\n",
    "\n",
    "cars.reverse()\n",
    "print(\"\\nList after reverse an element:\")\n",
    "print(cars)\n"
   ]
  },
  {
   "cell_type": "markdown",
   "metadata": {},
   "source": [
    "Question 10"
   ]
  },
  {
   "cell_type": "code",
   "execution_count": 64,
   "metadata": {},
   "outputs": [
    {
     "name": "stdout",
     "output_type": "stream",
     "text": [
      "['Rolls Royes', 'Tesla', 'Porsche', 'Land Rower']\n",
      "\n",
      " Accessing the element fron list .\n",
      "Tesla\n",
      "Land Rower\n",
      "\n",
      " The eror is  below .\n",
      "\n",
      "IndexError                                Traceback (most recent call last)\n",
      "Cell In[29], line 6\n",
      "      4 print(cars[1])\n",
      "      5 print(cars[3])\n",
      "----> 6 print(cars[5])\n",
      "\n",
      "IndexError: list index out of range\n"
     ]
    }
   ],
   "source": [
    "cars : list = [\"Rolls Royes\",\"Tesla\",\"Porsche\",\"Land Rower\"] \n",
    "print (cars)\n",
    "print(\"\\n Accessing the element fron list .\")\n",
    "print(cars[1])\n",
    "print(cars[3])\n",
    "# print(cars[5])\n",
    "print (\"\\n The eror is  below .\")\n",
    "print(\"\"\"\n",
    "IndexError                                Traceback (most recent call last)\n",
    "Cell In[29], line 6\n",
    "      4 print(cars[1])\n",
    "      5 print(cars[3])\n",
    "----> 6 print(cars[5])\n",
    "\n",
    "IndexError: list index out of range\"\"\")\n"
   ]
  }
 ],
 "metadata": {
  "kernelspec": {
   "display_name": "Python 3",
   "language": "python",
   "name": "python3"
  },
  "language_info": {
   "codemirror_mode": {
    "name": "ipython",
    "version": 3
   },
   "file_extension": ".py",
   "mimetype": "text/x-python",
   "name": "python",
   "nbconvert_exporter": "python",
   "pygments_lexer": "ipython3",
   "version": "3.12.4"
  }
 },
 "nbformat": 4,
 "nbformat_minor": 2
}
